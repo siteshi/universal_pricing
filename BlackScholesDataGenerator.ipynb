{
 "cells": [
  {
   "cell_type": "markdown",
   "metadata": {},
   "source": [
    "<center><h1><font color=\"orange\">Black Scholes Data Generator:</font></h1></center>"
   ]
  },
  {
   "cell_type": "markdown",
   "metadata": {},
   "source": [
    "<h4>Imports:</h4>"
   ]
  },
  {
   "cell_type": "code",
   "execution_count": 1,
   "metadata": {},
   "outputs": [],
   "source": [
    "import numpy as np\n",
    "from math import exp, log, pi, sqrt\n",
    "from scipy.stats import norm"
   ]
  },
  {
   "cell_type": "markdown",
   "metadata": {},
   "source": [
    "<h4>Data Generator:</h4>\n",
    "<p>Create random strike, spot, maturity time, rate, volatility, and dividend data to generate price of a call option from Black-Scholes. We calculate Black-Scholes value of a call option as \n",
    "    \n",
    "    $$d_1 = \\left(\\log{\\frac{S}{K}}\\right)+\\frac{\\left((r-d)+\\sigma*\\frac{\\sigma}{2}\\right)*T)}{(\\sigma*\\sqrt{T})} $$\n",
    "    $$d_2 = d_1 - \\sigma*\\sqrt{t}$$\n",
    "    $$ v = S*e^{\\frac{-d}{T}}*\\text{norm.cdf}\\left(d_1\\right) - K*e^{-rT}*\\text{norm.cdf}\\left(d_2\\right)$$\n",
    "\n",
    "\n",
    "</p>"
   ]
  },
  {
   "cell_type": "code",
   "execution_count": 189,
   "metadata": {},
   "outputs": [],
   "source": [
    "class BlackScholes:\n",
    "    def input_generator(self,num_samples): \n",
    "        '''\n",
    "        Generate random strike/spot, time (in days), rate, volatility (sigma), and dividend data to run \n",
    "        Black-Scholes on for n sampels\n",
    "        '''\n",
    "        S = np.random.uniform(0.00,500,num_samples) #Random Spot Price\n",
    "        #Ensure that our Strike/Spot (K/S) is between 0.95 and 1.05 \n",
    "        g = np.random.uniform(0.95,1.05,num_samples)\n",
    "        K = S/g \n",
    "        T = np.random.uniform(0, 365*8, num_samples) # time until expiration in days\n",
    "        rate = np.random.uniform(-0.2, 0.2, num_samples)# Annualized risk free rate\n",
    "        sigma = np.random.exponential(0.10, 2.0, num_samples)  #Volatility of daily returns             \n",
    "        dividend = np.random.uniform(0.0, 0.2, num_samples) # Dividend yield\n",
    "        X = np.asmatrix([S,K,T,sigma,rate,dividend]).transpose()\n",
    "        return X\n",
    "    \n",
    "    def getData(self,num_samples,write=False): \n",
    "        ''' \n",
    "        Get Random inputs X and prices Y\n",
    "        '''\n",
    "        X = self.input_generator(num_samples)\n",
    "        Y = self.generate_prices(X)\n",
    "        X = np.asarray(X)\n",
    "        if write:\n",
    "            with open('data.csv','w') as file:\n",
    "                file.write('K/S,T,sigma,rate,dividend,v\\n') \n",
    "                for i in range(X.shape[0]): \n",
    "                    file.write('{},{},{},{},{},{}\\n'.format(X[i][0], X[i][1], X[i][2], X[i][3],X[i][4], Y[i]))\n",
    "                file.close()\n",
    "        return X,Y\n",
    "    \n",
    "    def generate_prices(self,X): \n",
    "        '''\n",
    "        Vectorization to call the vanilla call price from the input\n",
    "        '''\n",
    "        return np.apply_along_axis(self.vanilla_call_price, axis=1, arr=X)\n",
    "    \n",
    "\n",
    "    def vanilla_call_price(self,X): \n",
    "        '''\n",
    "        Calculate Vanialla Call Price\n",
    "        '''\n",
    "\n",
    "        #Get Parameters from X\n",
    "        S = X[0,0]\n",
    "        K = X[0,1]\n",
    "        T = X[0,2]\n",
    "        sigma = X[0,3]\n",
    "        r = X[0,4]\n",
    "        d = X[0,5]\n",
    "        \n",
    "\n",
    "        #Black Scholes Formula Calculation\n",
    "        d1 = (log(float(S)/K)+((r-d)+sigma*sigma/2.)*T/365)/(sigma*sqrt(T))\n",
    "        d2 = d1-sigma*sqrt(T)\n",
    "        return S*exp(-d*T/365)*norm.cdf(d1)-K*exp(-r*T/365)*norm.cdf(d2)"
   ]
  },
  {
   "cell_type": "code",
   "execution_count": 125,
   "metadata": {},
   "outputs": [],
   "source": [
    "b = BlackScholes()\n",
    "trainX,trainY = b.getData(20000)"
   ]
  },
  {
   "cell_type": "code",
   "execution_count": 127,
   "metadata": {},
   "outputs": [],
   "source": [
    "testX,testY = BlackScholes().getData(5000)"
   ]
  },
  {
   "cell_type": "markdown",
   "metadata": {},
   "source": [
    "<h4>Models:</h4>"
   ]
  },
  {
   "cell_type": "code",
   "execution_count": 183,
   "metadata": {},
   "outputs": [],
   "source": [
    "from keras.models import Sequential\n",
    "from keras.layers import Dense,Activation"
   ]
  },
  {
   "cell_type": "markdown",
   "metadata": {},
   "source": [
    "<h4>Model 1:</h4>"
   ]
  },
  {
   "cell_type": "code",
   "execution_count": 129,
   "metadata": {},
   "outputs": [],
   "source": [
    "model = Sequential()\n",
    "model.add(Dense(64,input_dim=X.shape[1],activation='tanh'))\n",
    "model.add(Dense(1,activation='linear'))\n",
    "model.compile(optimizer='adam',loss='mse',metrics=['mse'])"
   ]
  },
  {
   "cell_type": "code",
   "execution_count": 131,
   "metadata": {},
   "outputs": [
    {
     "name": "stdout",
     "output_type": "stream",
     "text": [
      "Epoch 1/100\n",
      "20000/20000 [==============================] - 0s 23us/step - loss: 929.8000 - mean_squared_error: 929.8000\n",
      "Epoch 2/100\n",
      "20000/20000 [==============================] - 0s 22us/step - loss: 891.6509 - mean_squared_error: 891.6509\n",
      "Epoch 3/100\n",
      "20000/20000 [==============================] - 0s 22us/step - loss: 858.4084 - mean_squared_error: 858.4084\n",
      "Epoch 4/100\n",
      "20000/20000 [==============================] - 0s 22us/step - loss: 818.8868 - mean_squared_error: 818.8868\n",
      "Epoch 5/100\n",
      "20000/20000 [==============================] - 0s 23us/step - loss: 806.6795 - mean_squared_error: 806.6795\n",
      "Epoch 6/100\n",
      "20000/20000 [==============================] - 0s 22us/step - loss: 759.2286 - mean_squared_error: 759.2286\n",
      "Epoch 7/100\n",
      "20000/20000 [==============================] - 0s 22us/step - loss: 723.8397 - mean_squared_error: 723.8397\n",
      "Epoch 8/100\n",
      "20000/20000 [==============================] - 0s 23us/step - loss: 691.4145 - mean_squared_error: 691.4145\n",
      "Epoch 9/100\n",
      "20000/20000 [==============================] - 0s 22us/step - loss: 679.9284 - mean_squared_error: 679.9284\n",
      "Epoch 10/100\n",
      "20000/20000 [==============================] - 0s 23us/step - loss: 641.1554 - mean_squared_error: 641.1554\n",
      "Epoch 11/100\n",
      "20000/20000 [==============================] - 0s 23us/step - loss: 607.1555 - mean_squared_error: 607.1555\n",
      "Epoch 12/100\n",
      "20000/20000 [==============================] - 0s 22us/step - loss: 637.4763 - mean_squared_error: 637.4763\n",
      "Epoch 13/100\n",
      "20000/20000 [==============================] - 0s 23us/step - loss: 591.0226 - mean_squared_error: 591.0226\n",
      "Epoch 14/100\n",
      "20000/20000 [==============================] - 0s 22us/step - loss: 565.7581 - mean_squared_error: 565.7581\n",
      "Epoch 15/100\n",
      "20000/20000 [==============================] - 0s 22us/step - loss: 531.0200 - mean_squared_error: 531.0200\n",
      "Epoch 16/100\n",
      "20000/20000 [==============================] - 0s 23us/step - loss: 536.5981 - mean_squared_error: 536.5981\n",
      "Epoch 17/100\n",
      "20000/20000 [==============================] - 0s 23us/step - loss: 516.2305 - mean_squared_error: 516.2305\n",
      "Epoch 18/100\n",
      "20000/20000 [==============================] - 0s 23us/step - loss: 540.5290 - mean_squared_error: 540.5290\n",
      "Epoch 19/100\n",
      "20000/20000 [==============================] - 0s 23us/step - loss: 509.8898 - mean_squared_error: 509.8898\n",
      "Epoch 20/100\n",
      "20000/20000 [==============================] - 0s 23us/step - loss: 509.3231 - mean_squared_error: 509.3231\n",
      "Epoch 21/100\n",
      "20000/20000 [==============================] - 0s 23us/step - loss: 513.3930 - mean_squared_error: 513.3930\n",
      "Epoch 22/100\n",
      "20000/20000 [==============================] - 0s 23us/step - loss: 488.9769 - mean_squared_error: 488.9769\n",
      "Epoch 23/100\n",
      "20000/20000 [==============================] - 0s 23us/step - loss: 461.0771 - mean_squared_error: 461.0771\n",
      "Epoch 24/100\n",
      "20000/20000 [==============================] - 0s 23us/step - loss: 514.7097 - mean_squared_error: 514.7097\n",
      "Epoch 25/100\n",
      "20000/20000 [==============================] - 0s 23us/step - loss: 480.8706 - mean_squared_error: 480.8706\n",
      "Epoch 26/100\n",
      "20000/20000 [==============================] - 0s 23us/step - loss: 486.3497 - mean_squared_error: 486.3497\n",
      "Epoch 27/100\n",
      "20000/20000 [==============================] - 0s 24us/step - loss: 439.9482 - mean_squared_error: 439.9482\n",
      "Epoch 28/100\n",
      "20000/20000 [==============================] - 0s 23us/step - loss: 435.3931 - mean_squared_error: 435.3931\n",
      "Epoch 29/100\n",
      "20000/20000 [==============================] - 0s 23us/step - loss: 422.6380 - mean_squared_error: 422.6380\n",
      "Epoch 30/100\n",
      "20000/20000 [==============================] - 0s 23us/step - loss: 425.4829 - mean_squared_error: 425.4829\n",
      "Epoch 31/100\n",
      "20000/20000 [==============================] - 0s 23us/step - loss: 490.2909 - mean_squared_error: 490.2909\n",
      "Epoch 32/100\n",
      "20000/20000 [==============================] - 0s 24us/step - loss: 456.1520 - mean_squared_error: 456.1520\n",
      "Epoch 33/100\n",
      "20000/20000 [==============================] - 0s 24us/step - loss: 421.1449 - mean_squared_error: 421.1449\n",
      "Epoch 34/100\n",
      "20000/20000 [==============================] - 0s 23us/step - loss: 406.6713 - mean_squared_error: 406.6713\n",
      "Epoch 35/100\n",
      "20000/20000 [==============================] - 0s 23us/step - loss: 465.0556 - mean_squared_error: 465.0556\n",
      "Epoch 36/100\n",
      "20000/20000 [==============================] - 0s 23us/step - loss: 429.3809 - mean_squared_error: 429.3809\n",
      "Epoch 37/100\n",
      "20000/20000 [==============================] - 0s 24us/step - loss: 391.0237 - mean_squared_error: 391.0237\n",
      "Epoch 38/100\n",
      "20000/20000 [==============================] - 0s 23us/step - loss: 375.1559 - mean_squared_error: 375.1559\n",
      "Epoch 39/100\n",
      "20000/20000 [==============================] - 0s 23us/step - loss: 393.3747 - mean_squared_error: 393.3747\n",
      "Epoch 40/100\n",
      "20000/20000 [==============================] - 0s 23us/step - loss: 372.1626 - mean_squared_error: 372.1626\n",
      "Epoch 41/100\n",
      "20000/20000 [==============================] - 0s 23us/step - loss: 393.7838 - mean_squared_error: 393.7838\n",
      "Epoch 42/100\n",
      "20000/20000 [==============================] - 0s 24us/step - loss: 406.7518 - mean_squared_error: 406.7518\n",
      "Epoch 43/100\n",
      "20000/20000 [==============================] - 0s 24us/step - loss: 360.4039 - mean_squared_error: 360.4039\n",
      "Epoch 44/100\n",
      "20000/20000 [==============================] - 0s 23us/step - loss: 481.3088 - mean_squared_error: 481.3088\n",
      "Epoch 45/100\n",
      "20000/20000 [==============================] - 0s 23us/step - loss: 459.7420 - mean_squared_error: 459.7420\n",
      "Epoch 46/100\n",
      "20000/20000 [==============================] - 0s 23us/step - loss: 424.3967 - mean_squared_error: 424.3967\n",
      "Epoch 47/100\n",
      "20000/20000 [==============================] - 0s 24us/step - loss: 406.9315 - mean_squared_error: 406.9315\n",
      "Epoch 48/100\n",
      "20000/20000 [==============================] - 0s 23us/step - loss: 409.4164 - mean_squared_error: 409.4164\n",
      "Epoch 49/100\n",
      "20000/20000 [==============================] - 0s 23us/step - loss: 404.6377 - mean_squared_error: 404.6377\n",
      "Epoch 50/100\n",
      "20000/20000 [==============================] - 0s 23us/step - loss: 377.2362 - mean_squared_error: 377.2362\n",
      "Epoch 51/100\n",
      "20000/20000 [==============================] - 0s 23us/step - loss: 373.7371 - mean_squared_error: 373.7371\n",
      "Epoch 52/100\n",
      "20000/20000 [==============================] - 0s 23us/step - loss: 372.7191 - mean_squared_error: 372.7191\n",
      "Epoch 53/100\n",
      "20000/20000 [==============================] - 0s 24us/step - loss: 350.4460 - mean_squared_error: 350.4460\n",
      "Epoch 54/100\n",
      "20000/20000 [==============================] - 0s 23us/step - loss: 350.3985 - mean_squared_error: 350.3985\n",
      "Epoch 55/100\n",
      "20000/20000 [==============================] - 0s 24us/step - loss: 323.5007 - mean_squared_error: 323.5007\n",
      "Epoch 56/100\n",
      "20000/20000 [==============================] - 0s 24us/step - loss: 321.1517 - mean_squared_error: 321.1517\n",
      "Epoch 57/100\n",
      "20000/20000 [==============================] - 0s 25us/step - loss: 331.8402 - mean_squared_error: 331.8402\n",
      "Epoch 58/100\n",
      "20000/20000 [==============================] - 0s 24us/step - loss: 360.0411 - mean_squared_error: 360.0411\n",
      "Epoch 59/100\n",
      "20000/20000 [==============================] - 0s 25us/step - loss: 326.2737 - mean_squared_error: 326.2737\n",
      "Epoch 60/100\n",
      "20000/20000 [==============================] - 0s 24us/step - loss: 303.5948 - mean_squared_error: 303.5948\n",
      "Epoch 61/100\n",
      "20000/20000 [==============================] - 0s 24us/step - loss: 290.9840 - mean_squared_error: 290.9840\n",
      "Epoch 62/100\n",
      "20000/20000 [==============================] - 0s 24us/step - loss: 299.0191 - mean_squared_error: 299.0191\n",
      "Epoch 63/100\n",
      "20000/20000 [==============================] - 0s 24us/step - loss: 329.1822 - mean_squared_error: 329.1822\n",
      "Epoch 64/100\n",
      "20000/20000 [==============================] - 1s 25us/step - loss: 328.8144 - mean_squared_error: 328.8144\n",
      "Epoch 65/100\n",
      "20000/20000 [==============================] - 0s 24us/step - loss: 317.3039 - mean_squared_error: 317.3039\n",
      "Epoch 66/100\n",
      "20000/20000 [==============================] - 0s 24us/step - loss: 348.5706 - mean_squared_error: 348.5706\n",
      "Epoch 67/100\n",
      "20000/20000 [==============================] - 1s 25us/step - loss: 381.4194 - mean_squared_error: 381.4194\n",
      "Epoch 68/100\n"
     ]
    },
    {
     "name": "stdout",
     "output_type": "stream",
     "text": [
      "20000/20000 [==============================] - 0s 24us/step - loss: 329.4639 - mean_squared_error: 329.4639\n",
      "Epoch 69/100\n",
      "20000/20000 [==============================] - 0s 24us/step - loss: 344.1618 - mean_squared_error: 344.1618\n",
      "Epoch 70/100\n",
      "20000/20000 [==============================] - 0s 24us/step - loss: 341.2300 - mean_squared_error: 341.2300\n",
      "Epoch 71/100\n",
      "20000/20000 [==============================] - 0s 24us/step - loss: 359.0397 - mean_squared_error: 359.0397\n",
      "Epoch 72/100\n",
      "20000/20000 [==============================] - 0s 24us/step - loss: 335.3946 - mean_squared_error: 335.3946\n",
      "Epoch 73/100\n",
      "20000/20000 [==============================] - 0s 24us/step - loss: 362.1892 - mean_squared_error: 362.1892\n",
      "Epoch 74/100\n",
      "20000/20000 [==============================] - 0s 24us/step - loss: 335.0117 - mean_squared_error: 335.0117\n",
      "Epoch 75/100\n",
      "20000/20000 [==============================] - 0s 24us/step - loss: 327.3455 - mean_squared_error: 327.3455\n",
      "Epoch 76/100\n",
      "20000/20000 [==============================] - 0s 25us/step - loss: 309.3544 - mean_squared_error: 309.3544\n",
      "Epoch 77/100\n",
      "20000/20000 [==============================] - 0s 24us/step - loss: 327.4254 - mean_squared_error: 327.4254\n",
      "Epoch 78/100\n",
      "20000/20000 [==============================] - 0s 24us/step - loss: 307.8864 - mean_squared_error: 307.8864\n",
      "Epoch 79/100\n",
      "20000/20000 [==============================] - 0s 24us/step - loss: 297.7324 - mean_squared_error: 297.7324\n",
      "Epoch 80/100\n",
      "20000/20000 [==============================] - 0s 24us/step - loss: 314.1168 - mean_squared_error: 314.1168\n",
      "Epoch 81/100\n",
      "20000/20000 [==============================] - 0s 24us/step - loss: 322.5888 - mean_squared_error: 322.5888\n",
      "Epoch 82/100\n",
      "20000/20000 [==============================] - 0s 24us/step - loss: 282.8831 - mean_squared_error: 282.8831\n",
      "Epoch 83/100\n",
      "20000/20000 [==============================] - 1s 26us/step - loss: 302.6969 - mean_squared_error: 302.6969\n",
      "Epoch 84/100\n",
      "20000/20000 [==============================] - 0s 24us/step - loss: 269.7096 - mean_squared_error: 269.7096\n",
      "Epoch 85/100\n",
      "20000/20000 [==============================] - 0s 24us/step - loss: 340.6709 - mean_squared_error: 340.6709\n",
      "Epoch 86/100\n",
      "20000/20000 [==============================] - 0s 25us/step - loss: 307.3989 - mean_squared_error: 307.3989\n",
      "Epoch 87/100\n",
      "20000/20000 [==============================] - 0s 24us/step - loss: 316.2302 - mean_squared_error: 316.2302\n",
      "Epoch 88/100\n",
      "20000/20000 [==============================] - 0s 24us/step - loss: 297.1745 - mean_squared_error: 297.1745\n",
      "Epoch 89/100\n",
      "20000/20000 [==============================] - 0s 24us/step - loss: 306.1329 - mean_squared_error: 306.1329\n",
      "Epoch 90/100\n",
      "20000/20000 [==============================] - 0s 24us/step - loss: 290.9112 - mean_squared_error: 290.9112\n",
      "Epoch 91/100\n",
      "20000/20000 [==============================] - 0s 24us/step - loss: 288.8938 - mean_squared_error: 288.8938\n",
      "Epoch 92/100\n",
      "20000/20000 [==============================] - 0s 24us/step - loss: 301.5509 - mean_squared_error: 301.5509\n",
      "Epoch 93/100\n",
      "20000/20000 [==============================] - 0s 24us/step - loss: 274.8603 - mean_squared_error: 274.8603\n",
      "Epoch 94/100\n",
      "20000/20000 [==============================] - 0s 25us/step - loss: 261.1464 - mean_squared_error: 261.1464\n",
      "Epoch 95/100\n",
      "20000/20000 [==============================] - 0s 24us/step - loss: 300.7488 - mean_squared_error: 300.7488\n",
      "Epoch 96/100\n",
      "20000/20000 [==============================] - 0s 25us/step - loss: 380.4269 - mean_squared_error: 380.4269\n",
      "Epoch 97/100\n",
      "20000/20000 [==============================] - 0s 25us/step - loss: 379.1211 - mean_squared_error: 379.1211\n",
      "Epoch 98/100\n",
      "20000/20000 [==============================] - 0s 25us/step - loss: 330.9379 - mean_squared_error: 330.9379\n",
      "Epoch 99/100\n",
      "20000/20000 [==============================] - 0s 25us/step - loss: 301.0520 - mean_squared_error: 301.0520\n",
      "Epoch 100/100\n",
      "20000/20000 [==============================] - 0s 25us/step - loss: 307.2638 - mean_squared_error: 307.2638\n"
     ]
    },
    {
     "data": {
      "text/plain": [
       "<keras.callbacks.History at 0x1a2fa19f60>"
      ]
     },
     "execution_count": 131,
     "metadata": {},
     "output_type": "execute_result"
    }
   ],
   "source": [
    "model.fit(trainX,trainY,epochs=100, batch_size=32)"
   ]
  },
  {
   "cell_type": "code",
   "execution_count": 132,
   "metadata": {},
   "outputs": [],
   "source": [
    "preds = model.predict(testX)"
   ]
  },
  {
   "cell_type": "code",
   "execution_count": 136,
   "metadata": {},
   "outputs": [
    {
     "name": "stdout",
     "output_type": "stream",
     "text": [
      "5000/5000 [==============================] - 0s 47us/step\n"
     ]
    },
    {
     "data": {
      "text/plain": [
       "[308.02887568359375, 308.02887568359375]"
      ]
     },
     "execution_count": 136,
     "metadata": {},
     "output_type": "execute_result"
    }
   ],
   "source": [
    "model.evaluate(testX,testY)"
   ]
  },
  {
   "cell_type": "code",
   "execution_count": 143,
   "metadata": {},
   "outputs": [],
   "source": [
    "model = Sequential()\n",
    "model.add(Dense(300,input_dim=X.shape[1],activation='tanh'))\n",
    "model.add(Dense(300, activation='tanh'))\n",
    "model.add(Dense(300,activation='tanh'))\n",
    "model.add(Dense(1,activation='linear'))\n",
    "model.compile(optimizer='adam',loss='mse',metrics=['mse'])"
   ]
  },
  {
   "cell_type": "code",
   "execution_count": 144,
   "metadata": {},
   "outputs": [
    {
     "name": "stdout",
     "output_type": "stream",
     "text": [
      "Epoch 1/150\n",
      "20000/20000 [==============================] - 1s 61us/step - loss: 4998.1149 - mean_squared_error: 4998.1149\n",
      "Epoch 2/150\n",
      "20000/20000 [==============================] - 1s 33us/step - loss: 2053.8330 - mean_squared_error: 2053.8330\n",
      "Epoch 3/150\n",
      "20000/20000 [==============================] - 1s 33us/step - loss: 1675.6834 - mean_squared_error: 1675.6834\n",
      "Epoch 4/150\n",
      "20000/20000 [==============================] - 1s 33us/step - loss: 1589.3294 - mean_squared_error: 1589.3294\n",
      "Epoch 5/150\n",
      "20000/20000 [==============================] - 1s 33us/step - loss: 1552.8892 - mean_squared_error: 1552.8892\n",
      "Epoch 6/150\n",
      "20000/20000 [==============================] - 1s 33us/step - loss: 1473.7186 - mean_squared_error: 1473.7186\n",
      "Epoch 7/150\n",
      "20000/20000 [==============================] - 1s 34us/step - loss: 1332.5646 - mean_squared_error: 1332.5646\n",
      "Epoch 8/150\n",
      "20000/20000 [==============================] - 1s 33us/step - loss: 1269.8888 - mean_squared_error: 1269.8888\n",
      "Epoch 9/150\n",
      "20000/20000 [==============================] - 1s 33us/step - loss: 1126.0382 - mean_squared_error: 1126.0382\n",
      "Epoch 10/150\n",
      "20000/20000 [==============================] - 1s 34us/step - loss: 977.0065 - mean_squared_error: 977.0065\n",
      "Epoch 11/150\n",
      "20000/20000 [==============================] - 1s 33us/step - loss: 911.1326 - mean_squared_error: 911.1326\n",
      "Epoch 12/150\n",
      "20000/20000 [==============================] - 1s 33us/step - loss: 838.7221 - mean_squared_error: 838.7221\n",
      "Epoch 13/150\n",
      "20000/20000 [==============================] - 1s 33us/step - loss: 790.8748 - mean_squared_error: 790.8748\n",
      "Epoch 14/150\n",
      "20000/20000 [==============================] - 1s 34us/step - loss: 745.6011 - mean_squared_error: 745.6011\n",
      "Epoch 15/150\n",
      "20000/20000 [==============================] - 1s 34us/step - loss: 743.4569 - mean_squared_error: 743.4569\n",
      "Epoch 16/150\n",
      "20000/20000 [==============================] - 1s 34us/step - loss: 696.7108 - mean_squared_error: 696.7108\n",
      "Epoch 17/150\n",
      "20000/20000 [==============================] - 1s 34us/step - loss: 610.9377 - mean_squared_error: 610.9377\n",
      "Epoch 18/150\n",
      "20000/20000 [==============================] - 1s 35us/step - loss: 597.4910 - mean_squared_error: 597.4910\n",
      "Epoch 19/150\n",
      "20000/20000 [==============================] - 1s 35us/step - loss: 604.2821 - mean_squared_error: 604.2821\n",
      "Epoch 20/150\n",
      "20000/20000 [==============================] - 1s 35us/step - loss: 528.7986 - mean_squared_error: 528.7986\n",
      "Epoch 21/150\n",
      "20000/20000 [==============================] - 1s 35us/step - loss: 494.0006 - mean_squared_error: 494.0006\n",
      "Epoch 22/150\n",
      "20000/20000 [==============================] - 1s 34us/step - loss: 440.3360 - mean_squared_error: 440.3360\n",
      "Epoch 23/150\n",
      "20000/20000 [==============================] - 1s 34us/step - loss: 411.1222 - mean_squared_error: 411.1222\n",
      "Epoch 24/150\n",
      "20000/20000 [==============================] - 1s 38us/step - loss: 525.7243 - mean_squared_error: 525.7243\n",
      "Epoch 25/150\n",
      "20000/20000 [==============================] - 1s 36us/step - loss: 389.4508 - mean_squared_error: 389.4508\n",
      "Epoch 26/150\n",
      "20000/20000 [==============================] - 1s 36us/step - loss: 389.3984 - mean_squared_error: 389.3984\n",
      "Epoch 27/150\n",
      "20000/20000 [==============================] - 1s 35us/step - loss: 397.8571 - mean_squared_error: 397.8571\n",
      "Epoch 28/150\n",
      "20000/20000 [==============================] - 1s 35us/step - loss: 351.1533 - mean_squared_error: 351.1533\n",
      "Epoch 29/150\n",
      "20000/20000 [==============================] - 1s 37us/step - loss: 336.0146 - mean_squared_error: 336.0146\n",
      "Epoch 30/150\n",
      "20000/20000 [==============================] - 1s 37us/step - loss: 375.6174 - mean_squared_error: 375.6174\n",
      "Epoch 31/150\n",
      "20000/20000 [==============================] - 1s 35us/step - loss: 354.2148 - mean_squared_error: 354.2148\n",
      "Epoch 32/150\n",
      "20000/20000 [==============================] - 1s 35us/step - loss: 293.4361 - mean_squared_error: 293.4361\n",
      "Epoch 33/150\n",
      "20000/20000 [==============================] - 1s 34us/step - loss: 334.5395 - mean_squared_error: 334.5395\n",
      "Epoch 34/150\n",
      "20000/20000 [==============================] - 1s 35us/step - loss: 322.1512 - mean_squared_error: 322.1512\n",
      "Epoch 35/150\n",
      "20000/20000 [==============================] - 1s 41us/step - loss: 316.9900 - mean_squared_error: 316.9900\n",
      "Epoch 36/150\n",
      "20000/20000 [==============================] - 1s 37us/step - loss: 314.6342 - mean_squared_error: 314.6342\n",
      "Epoch 37/150\n",
      "20000/20000 [==============================] - 1s 37us/step - loss: 305.7461 - mean_squared_error: 305.7461\n",
      "Epoch 38/150\n",
      "20000/20000 [==============================] - 1s 38us/step - loss: 304.3062 - mean_squared_error: 304.3062\n",
      "Epoch 39/150\n",
      "20000/20000 [==============================] - 1s 37us/step - loss: 264.7671 - mean_squared_error: 264.7671\n",
      "Epoch 40/150\n",
      "20000/20000 [==============================] - 1s 39us/step - loss: 286.1277 - mean_squared_error: 286.1277\n",
      "Epoch 41/150\n",
      "20000/20000 [==============================] - 1s 39us/step - loss: 335.2793 - mean_squared_error: 335.2793\n",
      "Epoch 42/150\n",
      "20000/20000 [==============================] - 1s 38us/step - loss: 268.1727 - mean_squared_error: 268.1727\n",
      "Epoch 43/150\n",
      "20000/20000 [==============================] - 1s 37us/step - loss: 264.6286 - mean_squared_error: 264.6286\n",
      "Epoch 44/150\n",
      "20000/20000 [==============================] - 1s 40us/step - loss: 238.3684 - mean_squared_error: 238.3684\n",
      "Epoch 45/150\n",
      "20000/20000 [==============================] - 1s 36us/step - loss: 275.7794 - mean_squared_error: 275.7794\n",
      "Epoch 46/150\n",
      "20000/20000 [==============================] - 1s 35us/step - loss: 278.0084 - mean_squared_error: 278.0084\n",
      "Epoch 47/150\n",
      "20000/20000 [==============================] - 1s 35us/step - loss: 223.8000 - mean_squared_error: 223.8000\n",
      "Epoch 48/150\n",
      "20000/20000 [==============================] - 1s 35us/step - loss: 204.8221 - mean_squared_error: 204.8221\n",
      "Epoch 49/150\n",
      "20000/20000 [==============================] - 1s 36us/step - loss: 205.5680 - mean_squared_error: 205.5680\n",
      "Epoch 50/150\n",
      "20000/20000 [==============================] - 1s 38us/step - loss: 286.0212 - mean_squared_error: 286.0212\n",
      "Epoch 51/150\n",
      "20000/20000 [==============================] - 1s 36us/step - loss: 289.3739 - mean_squared_error: 289.3739\n",
      "Epoch 52/150\n",
      "20000/20000 [==============================] - 1s 36us/step - loss: 230.1142 - mean_squared_error: 230.1142\n",
      "Epoch 53/150\n",
      "20000/20000 [==============================] - 1s 36us/step - loss: 219.9276 - mean_squared_error: 219.9276\n",
      "Epoch 54/150\n",
      "20000/20000 [==============================] - 1s 37us/step - loss: 218.8525 - mean_squared_error: 218.8525\n",
      "Epoch 55/150\n",
      "20000/20000 [==============================] - 1s 42us/step - loss: 218.8273 - mean_squared_error: 218.8273\n",
      "Epoch 56/150\n",
      "20000/20000 [==============================] - 1s 37us/step - loss: 240.2132 - mean_squared_error: 240.2132\n",
      "Epoch 57/150\n",
      "20000/20000 [==============================] - 1s 40us/step - loss: 229.7955 - mean_squared_error: 229.7955\n",
      "Epoch 58/150\n",
      "20000/20000 [==============================] - 1s 38us/step - loss: 225.2157 - mean_squared_error: 225.2157\n",
      "Epoch 59/150\n",
      "20000/20000 [==============================] - 1s 39us/step - loss: 194.5940 - mean_squared_error: 194.5940\n",
      "Epoch 60/150\n",
      "20000/20000 [==============================] - 1s 38us/step - loss: 192.8146 - mean_squared_error: 192.8146\n",
      "Epoch 61/150\n",
      "20000/20000 [==============================] - 1s 38us/step - loss: 185.7306 - mean_squared_error: 185.7306\n",
      "Epoch 62/150\n",
      "20000/20000 [==============================] - 1s 37us/step - loss: 180.9231 - mean_squared_error: 180.9231\n",
      "Epoch 63/150\n",
      "20000/20000 [==============================] - 1s 37us/step - loss: 197.3102 - mean_squared_error: 197.3102\n",
      "Epoch 64/150\n",
      "20000/20000 [==============================] - 1s 38us/step - loss: 182.6794 - mean_squared_error: 182.6794\n",
      "Epoch 65/150\n",
      "20000/20000 [==============================] - 1s 37us/step - loss: 155.6994 - mean_squared_error: 155.6994\n",
      "Epoch 66/150\n",
      "20000/20000 [==============================] - 1s 36us/step - loss: 165.1496 - mean_squared_error: 165.1496\n",
      "Epoch 67/150\n",
      "20000/20000 [==============================] - 1s 35us/step - loss: 205.8417 - mean_squared_error: 205.8417\n",
      "Epoch 68/150\n"
     ]
    },
    {
     "name": "stdout",
     "output_type": "stream",
     "text": [
      "20000/20000 [==============================] - 1s 33us/step - loss: 131.3293 - mean_squared_error: 131.3293\n",
      "Epoch 69/150\n",
      "20000/20000 [==============================] - 1s 33us/step - loss: 157.3706 - mean_squared_error: 157.3706\n",
      "Epoch 70/150\n",
      "20000/20000 [==============================] - 1s 33us/step - loss: 130.9802 - mean_squared_error: 130.9802\n",
      "Epoch 71/150\n",
      "20000/20000 [==============================] - 1s 33us/step - loss: 134.7889 - mean_squared_error: 134.7889\n",
      "Epoch 72/150\n",
      "20000/20000 [==============================] - 1s 33us/step - loss: 127.9161 - mean_squared_error: 127.9161\n",
      "Epoch 73/150\n",
      "20000/20000 [==============================] - 1s 33us/step - loss: 114.6145 - mean_squared_error: 114.6145\n",
      "Epoch 74/150\n",
      "20000/20000 [==============================] - 1s 33us/step - loss: 127.4622 - mean_squared_error: 127.4622\n",
      "Epoch 75/150\n",
      "20000/20000 [==============================] - 1s 34us/step - loss: 172.2264 - mean_squared_error: 172.2264\n",
      "Epoch 76/150\n",
      "20000/20000 [==============================] - 1s 36us/step - loss: 151.5665 - mean_squared_error: 151.5665\n",
      "Epoch 77/150\n",
      "20000/20000 [==============================] - 1s 34us/step - loss: 125.8377 - mean_squared_error: 125.8377\n",
      "Epoch 78/150\n",
      "20000/20000 [==============================] - 1s 33us/step - loss: 115.4862 - mean_squared_error: 115.4862\n",
      "Epoch 79/150\n",
      "20000/20000 [==============================] - 1s 34us/step - loss: 125.7101 - mean_squared_error: 125.7101\n",
      "Epoch 80/150\n",
      "20000/20000 [==============================] - 1s 36us/step - loss: 120.1572 - mean_squared_error: 120.1572\n",
      "Epoch 81/150\n",
      "20000/20000 [==============================] - 1s 35us/step - loss: 103.8501 - mean_squared_error: 103.8501\n",
      "Epoch 82/150\n",
      "20000/20000 [==============================] - 1s 36us/step - loss: 118.8146 - mean_squared_error: 118.8146\n",
      "Epoch 83/150\n",
      "20000/20000 [==============================] - 1s 35us/step - loss: 124.5983 - mean_squared_error: 124.5983\n",
      "Epoch 84/150\n",
      "20000/20000 [==============================] - 1s 36us/step - loss: 104.4816 - mean_squared_error: 104.4816\n",
      "Epoch 85/150\n",
      "20000/20000 [==============================] - 1s 36us/step - loss: 142.9527 - mean_squared_error: 142.9527\n",
      "Epoch 86/150\n",
      "20000/20000 [==============================] - 1s 35us/step - loss: 134.0400 - mean_squared_error: 134.0400\n",
      "Epoch 87/150\n",
      "20000/20000 [==============================] - 1s 36us/step - loss: 122.7194 - mean_squared_error: 122.7194\n",
      "Epoch 88/150\n",
      "20000/20000 [==============================] - 1s 36us/step - loss: 132.8195 - mean_squared_error: 132.8195\n",
      "Epoch 89/150\n",
      "20000/20000 [==============================] - 1s 35us/step - loss: 98.9190 - mean_squared_error: 98.9190\n",
      "Epoch 90/150\n",
      "20000/20000 [==============================] - 1s 34us/step - loss: 99.0151 - mean_squared_error: 99.0151\n",
      "Epoch 91/150\n",
      "20000/20000 [==============================] - 1s 34us/step - loss: 116.2682 - mean_squared_error: 116.2682\n",
      "Epoch 92/150\n",
      "20000/20000 [==============================] - 1s 34us/step - loss: 135.1118 - mean_squared_error: 135.1118\n",
      "Epoch 93/150\n",
      "20000/20000 [==============================] - 1s 34us/step - loss: 104.7214 - mean_squared_error: 104.7214\n",
      "Epoch 94/150\n",
      "20000/20000 [==============================] - 1s 37us/step - loss: 92.7461 - mean_squared_error: 92.7461\n",
      "Epoch 95/150\n",
      "20000/20000 [==============================] - 1s 36us/step - loss: 122.3537 - mean_squared_error: 122.3537\n",
      "Epoch 96/150\n",
      "20000/20000 [==============================] - 1s 35us/step - loss: 91.9207 - mean_squared_error: 91.9207\n",
      "Epoch 97/150\n",
      "20000/20000 [==============================] - 1s 36us/step - loss: 135.9613 - mean_squared_error: 135.9613\n",
      "Epoch 98/150\n",
      "20000/20000 [==============================] - 1s 36us/step - loss: 89.2728 - mean_squared_error: 89.2728\n",
      "Epoch 99/150\n",
      "20000/20000 [==============================] - 1s 38us/step - loss: 114.3920 - mean_squared_error: 114.3920\n",
      "Epoch 100/150\n",
      "20000/20000 [==============================] - 1s 36us/step - loss: 127.4975 - mean_squared_error: 127.4975\n",
      "Epoch 101/150\n",
      "20000/20000 [==============================] - 1s 38us/step - loss: 120.5688 - mean_squared_error: 120.5688\n",
      "Epoch 102/150\n",
      "20000/20000 [==============================] - 1s 37us/step - loss: 94.3183 - mean_squared_error: 94.3183\n",
      "Epoch 103/150\n",
      "20000/20000 [==============================] - 1s 37us/step - loss: 102.2238 - mean_squared_error: 102.2238\n",
      "Epoch 104/150\n",
      "20000/20000 [==============================] - 1s 37us/step - loss: 96.6215 - mean_squared_error: 96.6215\n",
      "Epoch 105/150\n",
      "20000/20000 [==============================] - 1s 37us/step - loss: 104.0224 - mean_squared_error: 104.0224\n",
      "Epoch 106/150\n",
      "20000/20000 [==============================] - 1s 37us/step - loss: 84.7232 - mean_squared_error: 84.7232\n",
      "Epoch 107/150\n",
      "20000/20000 [==============================] - 1s 40us/step - loss: 104.5433 - mean_squared_error: 104.5433\n",
      "Epoch 108/150\n",
      "20000/20000 [==============================] - 1s 38us/step - loss: 74.0229 - mean_squared_error: 74.0229\n",
      "Epoch 109/150\n",
      "20000/20000 [==============================] - 1s 38us/step - loss: 88.0012 - mean_squared_error: 88.0012\n",
      "Epoch 110/150\n",
      "20000/20000 [==============================] - 1s 36us/step - loss: 130.3724 - mean_squared_error: 130.3724\n",
      "Epoch 111/150\n",
      "20000/20000 [==============================] - 1s 38us/step - loss: 74.5303 - mean_squared_error: 74.5303\n",
      "Epoch 112/150\n",
      "20000/20000 [==============================] - 1s 39us/step - loss: 95.4187 - mean_squared_error: 95.4187\n",
      "Epoch 113/150\n",
      "20000/20000 [==============================] - 1s 38us/step - loss: 89.2046 - mean_squared_error: 89.2046\n",
      "Epoch 114/150\n",
      "20000/20000 [==============================] - 1s 39us/step - loss: 78.9967 - mean_squared_error: 78.9967\n",
      "Epoch 115/150\n",
      "20000/20000 [==============================] - 1s 36us/step - loss: 135.1198 - mean_squared_error: 135.1198\n",
      "Epoch 116/150\n",
      "20000/20000 [==============================] - 1s 37us/step - loss: 95.3340 - mean_squared_error: 95.3340\n",
      "Epoch 117/150\n",
      "20000/20000 [==============================] - 1s 36us/step - loss: 94.8037 - mean_squared_error: 94.8037\n",
      "Epoch 118/150\n",
      "20000/20000 [==============================] - 1s 38us/step - loss: 151.5990 - mean_squared_error: 151.5990\n",
      "Epoch 119/150\n",
      "20000/20000 [==============================] - 1s 38us/step - loss: 157.3573 - mean_squared_error: 157.3573\n",
      "Epoch 120/150\n",
      "20000/20000 [==============================] - 1s 37us/step - loss: 112.3564 - mean_squared_error: 112.3564\n",
      "Epoch 121/150\n",
      "20000/20000 [==============================] - 1s 36us/step - loss: 107.2858 - mean_squared_error: 107.2858\n",
      "Epoch 122/150\n",
      "20000/20000 [==============================] - 1s 37us/step - loss: 148.6428 - mean_squared_error: 148.6428\n",
      "Epoch 123/150\n",
      "20000/20000 [==============================] - 1s 37us/step - loss: 105.7576 - mean_squared_error: 105.7576\n",
      "Epoch 124/150\n",
      "20000/20000 [==============================] - 1s 37us/step - loss: 134.2392 - mean_squared_error: 134.2392\n",
      "Epoch 125/150\n",
      "20000/20000 [==============================] - 1s 37us/step - loss: 98.3911 - mean_squared_error: 98.3911\n",
      "Epoch 126/150\n",
      "20000/20000 [==============================] - 1s 37us/step - loss: 106.7875 - mean_squared_error: 106.7875\n",
      "Epoch 127/150\n",
      "20000/20000 [==============================] - 1s 37us/step - loss: 97.0681 - mean_squared_error: 97.0681\n",
      "Epoch 128/150\n",
      "20000/20000 [==============================] - 1s 37us/step - loss: 127.4563 - mean_squared_error: 127.4563\n",
      "Epoch 129/150\n",
      "20000/20000 [==============================] - 1s 37us/step - loss: 99.5565 - mean_squared_error: 99.5565\n",
      "Epoch 130/150\n",
      "20000/20000 [==============================] - 1s 37us/step - loss: 109.6651 - mean_squared_error: 109.6651\n",
      "Epoch 131/150\n",
      "20000/20000 [==============================] - 1s 37us/step - loss: 126.7890 - mean_squared_error: 126.7890\n",
      "Epoch 132/150\n",
      "20000/20000 [==============================] - 1s 37us/step - loss: 78.6886 - mean_squared_error: 78.6886\n",
      "Epoch 133/150\n",
      "20000/20000 [==============================] - 1s 38us/step - loss: 83.4401 - mean_squared_error: 83.4401\n",
      "Epoch 134/150\n",
      "20000/20000 [==============================] - 1s 36us/step - loss: 89.5970 - mean_squared_error: 89.5970\n",
      "Epoch 135/150\n"
     ]
    },
    {
     "name": "stdout",
     "output_type": "stream",
     "text": [
      "20000/20000 [==============================] - 1s 36us/step - loss: 83.3492 - mean_squared_error: 83.3492\n",
      "Epoch 136/150\n",
      "20000/20000 [==============================] - 1s 34us/step - loss: 90.1052 - mean_squared_error: 90.1052\n",
      "Epoch 137/150\n",
      "20000/20000 [==============================] - 1s 36us/step - loss: 81.7599 - mean_squared_error: 81.7599\n",
      "Epoch 138/150\n",
      "20000/20000 [==============================] - 1s 35us/step - loss: 88.0132 - mean_squared_error: 88.0132\n",
      "Epoch 139/150\n",
      "20000/20000 [==============================] - 1s 37us/step - loss: 87.2695 - mean_squared_error: 87.2695\n",
      "Epoch 140/150\n",
      "20000/20000 [==============================] - 1s 36us/step - loss: 75.8790 - mean_squared_error: 75.8790\n",
      "Epoch 141/150\n",
      "20000/20000 [==============================] - 1s 36us/step - loss: 74.4779 - mean_squared_error: 74.4779\n",
      "Epoch 142/150\n",
      "20000/20000 [==============================] - 1s 35us/step - loss: 75.6780 - mean_squared_error: 75.6780\n",
      "Epoch 143/150\n",
      "20000/20000 [==============================] - 1s 35us/step - loss: 88.0107 - mean_squared_error: 88.0107\n",
      "Epoch 144/150\n",
      "20000/20000 [==============================] - 1s 36us/step - loss: 151.1853 - mean_squared_error: 151.1853\n",
      "Epoch 145/150\n",
      "20000/20000 [==============================] - 1s 35us/step - loss: 96.1778 - mean_squared_error: 96.1778\n",
      "Epoch 146/150\n",
      "20000/20000 [==============================] - 1s 34us/step - loss: 103.4960 - mean_squared_error: 103.4960\n",
      "Epoch 147/150\n",
      "20000/20000 [==============================] - 1s 38us/step - loss: 91.2713 - mean_squared_error: 91.2713\n",
      "Epoch 148/150\n",
      "20000/20000 [==============================] - 1s 38us/step - loss: 82.4880 - mean_squared_error: 82.4880\n",
      "Epoch 149/150\n",
      "20000/20000 [==============================] - 1s 35us/step - loss: 81.6453 - mean_squared_error: 81.6453\n",
      "Epoch 150/150\n",
      "20000/20000 [==============================] - 1s 37us/step - loss: 73.3953 - mean_squared_error: 73.3953\n"
     ]
    },
    {
     "data": {
      "text/plain": [
       "<keras.callbacks.History at 0x1a25d814a8>"
      ]
     },
     "execution_count": 144,
     "metadata": {},
     "output_type": "execute_result"
    }
   ],
   "source": [
    "model.fit(X,Y,batch_size=64,epochs=150)"
   ]
  },
  {
   "cell_type": "code",
   "execution_count": 145,
   "metadata": {},
   "outputs": [
    {
     "name": "stdout",
     "output_type": "stream",
     "text": [
      "5000/5000 [==============================] - 0s 63us/step\n"
     ]
    },
    {
     "data": {
      "text/plain": [
       "[51.2220770324707, 51.2220770324707]"
      ]
     },
     "execution_count": 145,
     "metadata": {},
     "output_type": "execute_result"
    }
   ],
   "source": [
    "model.evaluate(testX,testY)"
   ]
  },
  {
   "cell_type": "code",
   "execution_count": 146,
   "metadata": {},
   "outputs": [],
   "source": [
    "preds = model.predict(testX)"
   ]
  },
  {
   "cell_type": "code",
   "execution_count": 195,
   "metadata": {},
   "outputs": [
    {
     "name": "stdout",
     "output_type": "stream",
     "text": [
      "Feature ranking:\n",
      "1. feature 0 (0.636909)\n",
      "2. feature 5 (0.128762)\n",
      "3. feature 2 (0.123884)\n",
      "4. feature 1 (0.106715)\n",
      "5. feature 3 (0.002899)\n",
      "6. feature 4 (0.000831)\n"
     ]
    },
    {
     "data": {
      "text/plain": [
       "(-1, 6)"
      ]
     },
     "execution_count": 195,
     "metadata": {},
     "output_type": "execute_result"
    },
    {
     "data": {
      "image/png": "[encoded data removed]",
      "text/plain": [
       "<Figure size 432x288 with 1 Axes>"
      ]
     },
     "metadata": {},
     "output_type": "display_data"
    }
   ],
   "source": [
    "from sklearn.ensemble import RandomForestRegressor\n",
    "import matplotlib.pyplot as plt\n",
    "rfr = RandomForestRegressor(n_estimators=20)\n",
    "rfr.fit(X,Y)\n",
    "importances = rfr.feature_importances_\n",
    "std = np.std([tree.feature_importances_ for tree in rfr.estimators_],\n",
    "             axis=0)\n",
    "indices = np.argsort(importances)[::-1]\n",
    "\n",
    "# Print the feature ranking\n",
    "print(\"Feature ranking:\")\n",
    "\n",
    "for f in range(X.shape[1]):\n",
    "    print(\"%d. feature %d (%f)\" % (f + 1, indices[f], importances[indices[f]]))\n",
    "\n",
    "# Plot the feature importances of the forest\n",
    "plt.figure()\n",
    "plt.title(\"Feature importances\")\n",
    "plt.bar(range(X.shape[1]), importances[indices],\n",
    "       color=\"r\", yerr=std[indices], align=\"center\")\n",
    "plt.xticks(range(X.shape[1]), indices)\n",
    "plt.xlim([-1, X.shape[1]])"
   ]
  },
  {
   "cell_type": "code",
   "execution_count": 192,
   "metadata": {},
   "outputs": [
    {
     "data": {
      "text/plain": [
       "array([161.17719827,  58.67297563,  30.53892277, ...,  72.06615341,\n",
       "       201.74208062,  28.54392923])"
      ]
     },
     "execution_count": 192,
     "metadata": {},
     "output_type": "execute_result"
    }
   ],
   "source": [
    "rfr.predict(testX)"
   ]
  },
  {
   "cell_type": "code",
   "execution_count": 193,
   "metadata": {},
   "outputs": [
    {
     "data": {
      "text/plain": [
       "array([159.0415273 ,  60.93283996,  29.3640982 , ...,  76.69543475,\n",
       "       201.30210005,  29.67204858])"
      ]
     },
     "execution_count": 193,
     "metadata": {},
     "output_type": "execute_result"
    }
   ],
   "source": [
    "testY"
   ]
  },
  {
   "cell_type": "code",
   "execution_count": null,
   "metadata": {},
   "outputs": [],
   "source": []
  }
 ],
 "metadata": {
  "kernelspec": {
   "display_name": "Python 3",
   "language": "python",
   "name": "python3"
  },
  "language_info": {
   "codemirror_mode": {
    "name": "ipython",
    "version": 3
   },
   "file_extension": ".py",
   "mimetype": "text/x-python",
   "name": "python",
   "nbconvert_exporter": "python",
   "pygments_lexer": "ipython3",
   "version": "3.6.5"
  }
 },
 "nbformat": 4,
 "nbformat_minor": 2
}
